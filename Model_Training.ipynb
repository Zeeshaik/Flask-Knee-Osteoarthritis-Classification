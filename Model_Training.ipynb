{
 "cells": [
  {
   "cell_type": "code",
   "execution_count": 4,
   "metadata": {
    "colab": {
     "base_uri": "https://localhost:8080/"
    },
    "executionInfo": {
     "elapsed": 24172,
     "status": "ok",
     "timestamp": 1624603153123,
     "user": {
      "displayName": "NOUMAN AHMAD",
      "photoUrl": "https://lh3.googleusercontent.com/a-/AOh14GhcQ3BpK0-GAMrjLlr__tOqeFHLlT11IEFK0ztPsVY=s64",
      "userId": "11031044337039581497"
     },
     "user_tz": -300
    },
    "id": "Ui9cLjMdn17_",
    "outputId": "eb40dc63-c988-4957-bd42-585c64e8880d"
   },
   "outputs": [
    {
     "ename": "ModuleNotFoundError",
     "evalue": "No module named 'google'",
     "output_type": "error",
     "traceback": [
      "\u001b[1;31m---------------------------------------------------------------------------\u001b[0m",
      "\u001b[1;31mModuleNotFoundError\u001b[0m                       Traceback (most recent call last)",
      "Cell \u001b[1;32mIn[4], line 1\u001b[0m\n\u001b[1;32m----> 1\u001b[0m \u001b[39mfrom\u001b[39;00m \u001b[39mgoogle\u001b[39;00m\u001b[39m.\u001b[39;00m\u001b[39mcolab\u001b[39;00m \u001b[39mimport\u001b[39;00m drive\n\u001b[0;32m      2\u001b[0m drive\u001b[39m.\u001b[39mmount(\u001b[39m'\u001b[39m\u001b[39m/content/drive\u001b[39m\u001b[39m'\u001b[39m)\n",
      "\u001b[1;31mModuleNotFoundError\u001b[0m: No module named 'google'"
     ]
    }
   ],
   "source": [
    "from google.colab import drive\n",
    "drive.mount('/content/drive')"
   ]
  },
  {
   "cell_type": "code",
   "execution_count": 50,
   "metadata": {
    "colab": {
     "base_uri": "https://localhost:8080/"
    },
    "executionInfo": {
     "elapsed": 570,
     "status": "ok",
     "timestamp": 1624607243550,
     "user": {
      "displayName": "NOUMAN AHMAD",
      "photoUrl": "https://lh3.googleusercontent.com/a-/AOh14GhcQ3BpK0-GAMrjLlr__tOqeFHLlT11IEFK0ztPsVY=s64",
      "userId": "11031044337039581497"
     },
     "user_tz": -300
    },
    "id": "wL61Pc3_S06E",
    "outputId": "008e1132-3c8d-47b6-b1c3-bd3bdf4780f4"
   },
   "outputs": [
    {
     "name": "stdout",
     "output_type": "stream",
     "text": [
      "/content/drive/MyDrive/Knee-project\n"
     ]
    }
   ],
   "source": [
    "cd /content/drive/MyDrive/Knee-project"
   ]
  },
  {
   "cell_type": "markdown",
   "metadata": {
    "id": "Kl1j2aXXv_Co"
   },
   "source": [
    "# Dataset Link:\n",
    "https://data.mendeley.com/datasets/t9ndx37v5h/1"
   ]
  },
  {
   "cell_type": "markdown",
   "metadata": {},
   "source": [
    "## for more project and Data sceince materials folow our blog link below:"
   ]
  },
  {
   "cell_type": "markdown",
   "metadata": {},
   "source": [
    "# http://buffml.com/"
   ]
  },
  {
   "cell_type": "markdown",
   "metadata": {},
   "source": [
    "# Youtube channel:"
   ]
  },
  {
   "cell_type": "markdown",
   "metadata": {},
   "source": [
    "# https://www.youtube.com/c/artificialintelligencehub"
   ]
  },
  {
   "cell_type": "code",
   "execution_count": 5,
   "metadata": {
    "executionInfo": {
     "elapsed": 5,
     "status": "ok",
     "timestamp": 1624607243551,
     "user": {
      "displayName": "NOUMAN AHMAD",
      "photoUrl": "https://lh3.googleusercontent.com/a-/AOh14GhcQ3BpK0-GAMrjLlr__tOqeFHLlT11IEFK0ztPsVY=s64",
      "userId": "11031044337039581497"
     },
     "user_tz": -300
    },
    "id": "FcJvFmOTznEi"
   },
   "outputs": [
    {
     "name": "stderr",
     "output_type": "stream",
     "text": [
      "UsageError: Line magic function `%tensorflow_version` not found.\n"
     ]
    }
   ],
   "source": [
    "%tensorflow_version 1.x"
   ]
  },
  {
   "cell_type": "code",
   "execution_count": 9,
   "metadata": {
    "colab": {
     "base_uri": "https://localhost:8080/"
    },
    "executionInfo": {
     "elapsed": 2,
     "status": "ok",
     "timestamp": 1624607245155,
     "user": {
      "displayName": "NOUMAN AHMAD",
      "photoUrl": "https://lh3.googleusercontent.com/a-/AOh14GhcQ3BpK0-GAMrjLlr__tOqeFHLlT11IEFK0ztPsVY=s64",
      "userId": "11031044337039581497"
     },
     "user_tz": -300
    },
    "id": "NTL9JAB_zn0k",
    "outputId": "56bd5df1-eb81-49e5-b23c-a11ee6bd185a"
   },
   "outputs": [
    {
     "name": "stdout",
     "output_type": "stream",
     "text": [
      "2.11.0\n"
     ]
    }
   ],
   "source": [
    "import tensorflow\n",
    "print(tensorflow.__version__)"
   ]
  },
  {
   "cell_type": "markdown",
   "metadata": {
    "id": "Sqs8xkUUT7ex"
   },
   "source": [
    "#Data Preprocessing"
   ]
  },
  {
   "cell_type": "code",
   "execution_count": 11,
   "metadata": {
    "colab": {
     "base_uri": "https://localhost:8080/"
    },
    "executionInfo": {
     "elapsed": 342,
     "status": "ok",
     "timestamp": 1624607246066,
     "user": {
      "displayName": "NOUMAN AHMAD",
      "photoUrl": "https://lh3.googleusercontent.com/a-/AOh14GhcQ3BpK0-GAMrjLlr__tOqeFHLlT11IEFK0ztPsVY=s64",
      "userId": "11031044337039581497"
     },
     "user_tz": -300
    },
    "id": "k89Phl5nTfYU",
    "outputId": "657b91c8-7db2-43dd-c6f2-c5cd03213376"
   },
   "outputs": [
    {
     "name": "stdout",
     "output_type": "stream",
     "text": [
      "{'MedicalExpert-I': 0, 'MedicalExpert-II': 1}\n",
      "['MedicalExpert-I', 'MedicalExpert-II']\n",
      "[0, 1]\n"
     ]
    }
   ],
   "source": [
    "import cv2,os\n",
    "data_path='C:\\\\Users\\\\zeesh\\\\OneDrive\\\\Documents\\\\Projects\\\\Mini_Project B-Tech\\\\XRayImages\\\\Knee X-ray Images'\n",
    "categories=os.listdir(data_path)\n",
    "labels=[i for i in range(len(categories))]\n",
    "\n",
    "label_dict=dict(zip(categories,labels)) #empty dictionary\n",
    "print(label_dict)\n",
    "print(categories)\n",
    "print(labels)"
   ]
  },
  {
   "cell_type": "code",
   "execution_count": 13,
   "metadata": {
    "executionInfo": {
     "elapsed": 5512,
     "status": "ok",
     "timestamp": 1624607253016,
     "user": {
      "displayName": "NOUMAN AHMAD",
      "photoUrl": "https://lh3.googleusercontent.com/a-/AOh14GhcQ3BpK0-GAMrjLlr__tOqeFHLlT11IEFK0ztPsVY=s64",
      "userId": "11031044337039581497"
     },
     "user_tz": -300
    },
    "id": "BScfeIRlTtlL"
   },
   "outputs": [
    {
     "name": "stdout",
     "output_type": "stream",
     "text": [
      "Exception: OpenCV(4.7.0) D:\\a\\opencv-python\\opencv-python\\opencv\\modules\\imgproc\\src\\color.cpp:182: error: (-215:Assertion failed) !_src.empty() in function 'cv::cvtColor'\n",
      "\n",
      "Exception: OpenCV(4.7.0) D:\\a\\opencv-python\\opencv-python\\opencv\\modules\\imgproc\\src\\color.cpp:182: error: (-215:Assertion failed) !_src.empty() in function 'cv::cvtColor'\n",
      "\n",
      "Exception: OpenCV(4.7.0) D:\\a\\opencv-python\\opencv-python\\opencv\\modules\\imgproc\\src\\color.cpp:182: error: (-215:Assertion failed) !_src.empty() in function 'cv::cvtColor'\n",
      "\n",
      "Exception: OpenCV(4.7.0) D:\\a\\opencv-python\\opencv-python\\opencv\\modules\\imgproc\\src\\color.cpp:182: error: (-215:Assertion failed) !_src.empty() in function 'cv::cvtColor'\n",
      "\n",
      "Exception: OpenCV(4.7.0) D:\\a\\opencv-python\\opencv-python\\opencv\\modules\\imgproc\\src\\color.cpp:182: error: (-215:Assertion failed) !_src.empty() in function 'cv::cvtColor'\n",
      "\n",
      "Exception: OpenCV(4.7.0) D:\\a\\opencv-python\\opencv-python\\opencv\\modules\\imgproc\\src\\color.cpp:182: error: (-215:Assertion failed) !_src.empty() in function 'cv::cvtColor'\n",
      "\n",
      "Exception: OpenCV(4.7.0) D:\\a\\opencv-python\\opencv-python\\opencv\\modules\\imgproc\\src\\color.cpp:182: error: (-215:Assertion failed) !_src.empty() in function 'cv::cvtColor'\n",
      "\n",
      "Exception: OpenCV(4.7.0) D:\\a\\opencv-python\\opencv-python\\opencv\\modules\\imgproc\\src\\color.cpp:182: error: (-215:Assertion failed) !_src.empty() in function 'cv::cvtColor'\n",
      "\n",
      "Exception: OpenCV(4.7.0) D:\\a\\opencv-python\\opencv-python\\opencv\\modules\\imgproc\\src\\color.cpp:182: error: (-215:Assertion failed) !_src.empty() in function 'cv::cvtColor'\n",
      "\n",
      "Exception: OpenCV(4.7.0) D:\\a\\opencv-python\\opencv-python\\opencv\\modules\\imgproc\\src\\color.cpp:182: error: (-215:Assertion failed) !_src.empty() in function 'cv::cvtColor'\n",
      "\n"
     ]
    }
   ],
   "source": [
    "img_size=256\n",
    "data=[]\n",
    "label=[]\n",
    "\n",
    "for category in categories:\n",
    "    folder_path=os.path.join(data_path,category)\n",
    "    img_names=os.listdir(folder_path)\n",
    "        \n",
    "    for img_name in img_names:\n",
    "        img_path=os.path.join(folder_path,img_name)\n",
    "        img=cv2.imread(img_path)\n",
    "        try:\n",
    "            gray = cv2.cvtColor(img, cv2.COLOR_BGR2GRAY)  \n",
    "            resized=cv2.resize(gray,(img_size,img_size))\n",
    "            #resizing the image  into 256 x 256, since we need a fixed common size for all the images in the dataset\n",
    "            data.append(resized)\n",
    "            label.append(label_dict[category])\n",
    "            #appending the image and the label(categorized) into the list (dataset)\n",
    "        except Exception as e:\n",
    "            print('Exception:',e)\n",
    "            #if any exception rasied, the exception will be printed here. And pass to the next image"
   ]
  },
  {
   "cell_type": "markdown",
   "metadata": {
    "id": "mYQHryCXVQa9"
   },
   "source": [
    "# Recale and assign  catagorical labels"
   ]
  },
  {
   "cell_type": "code",
   "execution_count": 14,
   "metadata": {
    "executionInfo": {
     "elapsed": 377,
     "status": "ok",
     "timestamp": 1624607287285,
     "user": {
      "displayName": "NOUMAN AHMAD",
      "photoUrl": "https://lh3.googleusercontent.com/a-/AOh14GhcQ3BpK0-GAMrjLlr__tOqeFHLlT11IEFK0ztPsVY=s64",
      "userId": "11031044337039581497"
     },
     "user_tz": -300
    },
    "id": "DRj6dU9zTxNw"
   },
   "outputs": [
    {
     "ename": "ValueError",
     "evalue": "zero-size array to reduction operation maximum which has no identity",
     "output_type": "error",
     "traceback": [
      "\u001b[1;31m---------------------------------------------------------------------------\u001b[0m",
      "\u001b[1;31mValueError\u001b[0m                                Traceback (most recent call last)",
      "Cell \u001b[1;32mIn[14], line 6\u001b[0m\n\u001b[0;32m      4\u001b[0m label\u001b[39m=\u001b[39mnp\u001b[39m.\u001b[39marray(label)\n\u001b[0;32m      5\u001b[0m \u001b[39mfrom\u001b[39;00m \u001b[39mkeras\u001b[39;00m\u001b[39m.\u001b[39;00m\u001b[39mutils\u001b[39;00m \u001b[39mimport\u001b[39;00m np_utils\n\u001b[1;32m----> 6\u001b[0m new_label\u001b[39m=\u001b[39mnp_utils\u001b[39m.\u001b[39;49mto_categorical(label)\n",
      "File \u001b[1;32mc:\\Users\\zeesh\\AppData\\Local\\Programs\\Python\\Python310\\lib\\site-packages\\keras\\utils\\np_utils.py:70\u001b[0m, in \u001b[0;36mto_categorical\u001b[1;34m(y, num_classes, dtype)\u001b[0m\n\u001b[0;32m     68\u001b[0m y \u001b[39m=\u001b[39m y\u001b[39m.\u001b[39mravel()\n\u001b[0;32m     69\u001b[0m \u001b[39mif\u001b[39;00m \u001b[39mnot\u001b[39;00m num_classes:\n\u001b[1;32m---> 70\u001b[0m     num_classes \u001b[39m=\u001b[39m np\u001b[39m.\u001b[39;49mmax(y) \u001b[39m+\u001b[39m \u001b[39m1\u001b[39m\n\u001b[0;32m     71\u001b[0m n \u001b[39m=\u001b[39m y\u001b[39m.\u001b[39mshape[\u001b[39m0\u001b[39m]\n\u001b[0;32m     72\u001b[0m categorical \u001b[39m=\u001b[39m np\u001b[39m.\u001b[39mzeros((n, num_classes), dtype\u001b[39m=\u001b[39mdtype)\n",
      "File \u001b[1;32m<__array_function__ internals>:200\u001b[0m, in \u001b[0;36mamax\u001b[1;34m(*args, **kwargs)\u001b[0m\n",
      "File \u001b[1;32mc:\\Users\\zeesh\\AppData\\Local\\Programs\\Python\\Python310\\lib\\site-packages\\numpy\\core\\fromnumeric.py:2820\u001b[0m, in \u001b[0;36mamax\u001b[1;34m(a, axis, out, keepdims, initial, where)\u001b[0m\n\u001b[0;32m   2703\u001b[0m \u001b[39m@array_function_dispatch\u001b[39m(_amax_dispatcher)\n\u001b[0;32m   2704\u001b[0m \u001b[39mdef\u001b[39;00m \u001b[39mamax\u001b[39m(a, axis\u001b[39m=\u001b[39m\u001b[39mNone\u001b[39;00m, out\u001b[39m=\u001b[39m\u001b[39mNone\u001b[39;00m, keepdims\u001b[39m=\u001b[39mnp\u001b[39m.\u001b[39m_NoValue, initial\u001b[39m=\u001b[39mnp\u001b[39m.\u001b[39m_NoValue,\n\u001b[0;32m   2705\u001b[0m          where\u001b[39m=\u001b[39mnp\u001b[39m.\u001b[39m_NoValue):\n\u001b[0;32m   2706\u001b[0m \u001b[39m    \u001b[39m\u001b[39m\"\"\"\u001b[39;00m\n\u001b[0;32m   2707\u001b[0m \u001b[39m    Return the maximum of an array or maximum along an axis.\u001b[39;00m\n\u001b[0;32m   2708\u001b[0m \n\u001b[1;32m   (...)\u001b[0m\n\u001b[0;32m   2818\u001b[0m \u001b[39m    5\u001b[39;00m\n\u001b[0;32m   2819\u001b[0m \u001b[39m    \"\"\"\u001b[39;00m\n\u001b[1;32m-> 2820\u001b[0m     \u001b[39mreturn\u001b[39;00m _wrapreduction(a, np\u001b[39m.\u001b[39;49mmaximum, \u001b[39m'\u001b[39;49m\u001b[39mmax\u001b[39;49m\u001b[39m'\u001b[39;49m, axis, \u001b[39mNone\u001b[39;49;00m, out,\n\u001b[0;32m   2821\u001b[0m                           keepdims\u001b[39m=\u001b[39;49mkeepdims, initial\u001b[39m=\u001b[39;49minitial, where\u001b[39m=\u001b[39;49mwhere)\n",
      "File \u001b[1;32mc:\\Users\\zeesh\\AppData\\Local\\Programs\\Python\\Python310\\lib\\site-packages\\numpy\\core\\fromnumeric.py:86\u001b[0m, in \u001b[0;36m_wrapreduction\u001b[1;34m(obj, ufunc, method, axis, dtype, out, **kwargs)\u001b[0m\n\u001b[0;32m     83\u001b[0m         \u001b[39melse\u001b[39;00m:\n\u001b[0;32m     84\u001b[0m             \u001b[39mreturn\u001b[39;00m reduction(axis\u001b[39m=\u001b[39maxis, out\u001b[39m=\u001b[39mout, \u001b[39m*\u001b[39m\u001b[39m*\u001b[39mpasskwargs)\n\u001b[1;32m---> 86\u001b[0m \u001b[39mreturn\u001b[39;00m ufunc\u001b[39m.\u001b[39mreduce(obj, axis, dtype, out, \u001b[39m*\u001b[39m\u001b[39m*\u001b[39mpasskwargs)\n",
      "\u001b[1;31mValueError\u001b[0m: zero-size array to reduction operation maximum which has no identity"
     ]
    }
   ],
   "source": [
    "import numpy as np\n",
    "data=np.array(data)/255.0\n",
    "data=np.reshape(data,(data.shape[0],img_size,img_size,1))\n",
    "label=np.array(label)\n",
    "from keras.utils import np_utils\n",
    "new_label=np_utils.to_categorical(label)"
   ]
  },
  {
   "cell_type": "code",
   "execution_count": 56,
   "metadata": {
    "colab": {
     "base_uri": "https://localhost:8080/"
    },
    "executionInfo": {
     "elapsed": 4,
     "status": "ok",
     "timestamp": 1624607288555,
     "user": {
      "displayName": "NOUMAN AHMAD",
      "photoUrl": "https://lh3.googleusercontent.com/a-/AOh14GhcQ3BpK0-GAMrjLlr__tOqeFHLlT11IEFK0ztPsVY=s64",
      "userId": "11031044337039581497"
     },
     "user_tz": -300
    },
    "id": "M2Ww7WuoeRAo",
    "outputId": "1c68d332-aee8-4dc2-8382-38907de824e3"
   },
   "outputs": [
    {
     "data": {
      "text/plain": [
       "(1650, 5)"
      ]
     },
     "execution_count": 56,
     "metadata": {
      "tags": []
     },
     "output_type": "execute_result"
    }
   ],
   "source": [
    "new_label.shape"
   ]
  },
  {
   "cell_type": "markdown",
   "metadata": {
    "id": "at-tkV9EUH8v"
   },
   "source": [
    "#CNN Model"
   ]
  },
  {
   "cell_type": "code",
   "execution_count": 57,
   "metadata": {
    "colab": {
     "base_uri": "https://localhost:8080/"
    },
    "executionInfo": {
     "elapsed": 4,
     "status": "ok",
     "timestamp": 1624607291285,
     "user": {
      "displayName": "NOUMAN AHMAD",
      "photoUrl": "https://lh3.googleusercontent.com/a-/AOh14GhcQ3BpK0-GAMrjLlr__tOqeFHLlT11IEFK0ztPsVY=s64",
      "userId": "11031044337039581497"
     },
     "user_tz": -300
    },
    "id": "w5yQijqzVHJN",
    "outputId": "4aefaeae-b6de-4901-bda8-c70ad98bcac4"
   },
   "outputs": [
    {
     "data": {
      "text/plain": [
       "(1650, 256, 256, 1)"
      ]
     },
     "execution_count": 57,
     "metadata": {
      "tags": []
     },
     "output_type": "execute_result"
    }
   ],
   "source": [
    "data.shape"
   ]
  },
  {
   "cell_type": "code",
   "execution_count": 58,
   "metadata": {
    "colab": {
     "base_uri": "https://localhost:8080/"
    },
    "executionInfo": {
     "elapsed": 6,
     "status": "ok",
     "timestamp": 1624607291786,
     "user": {
      "displayName": "NOUMAN AHMAD",
      "photoUrl": "https://lh3.googleusercontent.com/a-/AOh14GhcQ3BpK0-GAMrjLlr__tOqeFHLlT11IEFK0ztPsVY=s64",
      "userId": "11031044337039581497"
     },
     "user_tz": -300
    },
    "id": "L1JcfG4MdVZ2",
    "outputId": "0973e4d2-595e-4a0a-9264-0a4b2c72ff54"
   },
   "outputs": [
    {
     "data": {
      "text/plain": [
       "(256, 256, 1)"
      ]
     },
     "execution_count": 58,
     "metadata": {
      "tags": []
     },
     "output_type": "execute_result"
    }
   ],
   "source": [
    "data.shape[1:]"
   ]
  },
  {
   "cell_type": "code",
   "execution_count": 15,
   "metadata": {
    "executionInfo": {
     "elapsed": 407,
     "status": "ok",
     "timestamp": 1624607292189,
     "user": {
      "displayName": "NOUMAN AHMAD",
      "photoUrl": "https://lh3.googleusercontent.com/a-/AOh14GhcQ3BpK0-GAMrjLlr__tOqeFHLlT11IEFK0ztPsVY=s64",
      "userId": "11031044337039581497"
     },
     "user_tz": -300
    },
    "id": "XgsZogOtUPm2"
   },
   "outputs": [],
   "source": [
    "from keras.models import Sequential\n",
    "from keras.layers import Dense,Activation,Flatten,Dropout\n",
    "from keras.layers import Conv2D,MaxPooling2D\n",
    "from keras.callbacks import ModelCheckpoint\n",
    "\n",
    "model=Sequential()\n",
    "\n",
    "model.add(Conv2D(128,(3,3),input_shape=data.shape[1:]))\n",
    "model.add(Activation('relu'))\n",
    "model.add(MaxPooling2D(pool_size=(2,2)))\n",
    "#The first CNN layer followed by Relu and MaxPooling layers\n",
    "\n",
    "model.add(Conv2D(64,(3,3)))\n",
    "model.add(Activation('relu'))\n",
    "model.add(MaxPooling2D(pool_size=(2,2)))\n",
    "#The second convolution layer followed by Relu and MaxPooling layers\n",
    "\n",
    "model.add(Conv2D(32,(3,3)))\n",
    "model.add(Activation('relu'))\n",
    "model.add(MaxPooling2D(pool_size=(2,2)))\n",
    "#The thrid convolution layer followed by Relu and MaxPooling layers\n",
    "\n",
    "model.add(Flatten())\n",
    "#Flatten layer to stack the output convolutions from 3rd convolution layer\n",
    "model.add(Dropout(0.2))\n",
    "\n",
    "model.add(Dense(128,activation='relu'))\n",
    "#Dense layer of 128 neurons\n",
    "\n",
    "model.add(Dropout(0.1))\n",
    "model.add(Dense(64,activation='relu'))\n",
    "#Dense layer of 64 neurons\n",
    "\n",
    "model.add(Dense(5,activation='softmax'))\n",
    "#The Final layer with two outputs for two categories\n",
    "\n",
    "model.compile(loss='categorical_crossentropy',optimizer='adam',metrics=['accuracy'])"
   ]
  },
  {
   "cell_type": "code",
   "execution_count": 60,
   "metadata": {
    "colab": {
     "base_uri": "https://localhost:8080/"
    },
    "executionInfo": {
     "elapsed": 5,
     "status": "ok",
     "timestamp": 1624607292959,
     "user": {
      "displayName": "NOUMAN AHMAD",
      "photoUrl": "https://lh3.googleusercontent.com/a-/AOh14GhcQ3BpK0-GAMrjLlr__tOqeFHLlT11IEFK0ztPsVY=s64",
      "userId": "11031044337039581497"
     },
     "user_tz": -300
    },
    "id": "yfCMzZEpcyAM",
    "outputId": "9bca418e-148c-461f-fe89-f3de529231ce"
   },
   "outputs": [
    {
     "name": "stdout",
     "output_type": "stream",
     "text": [
      "Model: \"sequential_4\"\n",
      "_________________________________________________________________\n",
      "Layer (type)                 Output Shape              Param #   \n",
      "=================================================================\n",
      "conv2d_8 (Conv2D)            (None, 254, 254, 128)     1280      \n",
      "_________________________________________________________________\n",
      "activation_8 (Activation)    (None, 254, 254, 128)     0         \n",
      "_________________________________________________________________\n",
      "max_pooling2d_8 (MaxPooling2 (None, 127, 127, 128)     0         \n",
      "_________________________________________________________________\n",
      "conv2d_9 (Conv2D)            (None, 125, 125, 64)      73792     \n",
      "_________________________________________________________________\n",
      "activation_9 (Activation)    (None, 125, 125, 64)      0         \n",
      "_________________________________________________________________\n",
      "max_pooling2d_9 (MaxPooling2 (None, 62, 62, 64)        0         \n",
      "_________________________________________________________________\n",
      "conv2d_10 (Conv2D)           (None, 60, 60, 32)        18464     \n",
      "_________________________________________________________________\n",
      "activation_10 (Activation)   (None, 60, 60, 32)        0         \n",
      "_________________________________________________________________\n",
      "max_pooling2d_10 (MaxPooling (None, 30, 30, 32)        0         \n",
      "_________________________________________________________________\n",
      "flatten_4 (Flatten)          (None, 28800)             0         \n",
      "_________________________________________________________________\n",
      "dropout_4 (Dropout)          (None, 28800)             0         \n",
      "_________________________________________________________________\n",
      "dense_8 (Dense)              (None, 128)               3686528   \n",
      "_________________________________________________________________\n",
      "dropout_5 (Dropout)          (None, 128)               0         \n",
      "_________________________________________________________________\n",
      "dense_9 (Dense)              (None, 64)                8256      \n",
      "_________________________________________________________________\n",
      "dense_10 (Dense)             (None, 5)                 325       \n",
      "=================================================================\n",
      "Total params: 3,788,645\n",
      "Trainable params: 3,788,645\n",
      "Non-trainable params: 0\n",
      "_________________________________________________________________\n"
     ]
    }
   ],
   "source": [
    "model.summary()"
   ]
  },
  {
   "cell_type": "markdown",
   "metadata": {
    "id": "Lzs7FPsncqKT"
   },
   "source": [
    "# Splitting data into traning and testing"
   ]
  },
  {
   "cell_type": "code",
   "execution_count": 16,
   "metadata": {
    "executionInfo": {
     "elapsed": 638,
     "status": "ok",
     "timestamp": 1624607300466,
     "user": {
      "displayName": "NOUMAN AHMAD",
      "photoUrl": "https://lh3.googleusercontent.com/a-/AOh14GhcQ3BpK0-GAMrjLlr__tOqeFHLlT11IEFK0ztPsVY=s64",
      "userId": "11031044337039581497"
     },
     "user_tz": -300
    },
    "id": "1oHT4H09UT8-"
   },
   "outputs": [
    {
     "ename": "ModuleNotFoundError",
     "evalue": "No module named 'sklearn'",
     "output_type": "error",
     "traceback": [
      "\u001b[1;31m---------------------------------------------------------------------------\u001b[0m",
      "\u001b[1;31mModuleNotFoundError\u001b[0m                       Traceback (most recent call last)",
      "Cell \u001b[1;32mIn[16], line 1\u001b[0m\n\u001b[1;32m----> 1\u001b[0m \u001b[39mfrom\u001b[39;00m \u001b[39msklearn\u001b[39;00m\u001b[39m.\u001b[39;00m\u001b[39mmodel_selection\u001b[39;00m \u001b[39mimport\u001b[39;00m train_test_split\n\u001b[0;32m      2\u001b[0m x_train,x_test,y_train,y_test\u001b[39m=\u001b[39mtrain_test_split(data,new_label,test_size\u001b[39m=\u001b[39m\u001b[39m0.1\u001b[39m)\n",
      "\u001b[1;31mModuleNotFoundError\u001b[0m: No module named 'sklearn'"
     ]
    }
   ],
   "source": [
    "from sklearn.model_selection import train_test_split\n",
    "x_train,x_test,y_train,y_test=train_test_split(data,new_label,test_size=0.1)"
   ]
  },
  {
   "cell_type": "code",
   "execution_count": 17,
   "metadata": {
    "colab": {
     "base_uri": "https://localhost:8080/",
     "height": 479
    },
    "executionInfo": {
     "elapsed": 2355,
     "status": "ok",
     "timestamp": 1624607302819,
     "user": {
      "displayName": "NOUMAN AHMAD",
      "photoUrl": "https://lh3.googleusercontent.com/a-/AOh14GhcQ3BpK0-GAMrjLlr__tOqeFHLlT11IEFK0ztPsVY=s64",
      "userId": "11031044337039581497"
     },
     "user_tz": -300
    },
    "id": "j3BCXcrumxpv",
    "outputId": "772e6cd0-46e2-4fb6-ab09-4166c6a8ba06"
   },
   "outputs": [
    {
     "ename": "NameError",
     "evalue": "name 'x_test' is not defined",
     "output_type": "error",
     "traceback": [
      "\u001b[1;31m---------------------------------------------------------------------------\u001b[0m",
      "\u001b[1;31mNameError\u001b[0m                                 Traceback (most recent call last)",
      "Cell \u001b[1;32mIn[17], line 8\u001b[0m\n\u001b[0;32m      6\u001b[0m     plt\u001b[39m.\u001b[39myticks([])\n\u001b[0;32m      7\u001b[0m     plt\u001b[39m.\u001b[39mgrid(\u001b[39mFalse\u001b[39;00m)\n\u001b[1;32m----> 8\u001b[0m     plt\u001b[39m.\u001b[39mimshow(np\u001b[39m.\u001b[39msqueeze(x_test[i]))\n\u001b[0;32m      9\u001b[0m     plt\u001b[39m.\u001b[39mxlabel(categories[np\u001b[39m.\u001b[39margmax(y_test[i])])\n\u001b[0;32m     10\u001b[0m plt\u001b[39m.\u001b[39mshow()\n",
      "\u001b[1;31mNameError\u001b[0m: name 'x_test' is not defined"
     ]
    },
    {
     "data": {
      "image/png": "[encoded data removed]",
      "text/plain": [
       "<Figure size 1000x1000 with 1 Axes>"
      ]
     },
     "metadata": {},
     "output_type": "display_data"
    }
   ],
   "source": [
    "import matplotlib.pyplot as plt\n",
    "plt.figure(figsize=(10,10))\n",
    "for i in range(20):\n",
    "    plt.subplot(5,5,i+1)\n",
    "    plt.xticks([])\n",
    "    plt.yticks([])\n",
    "    plt.grid(False)\n",
    "    plt.imshow(np.squeeze(x_test[i]))\n",
    "    plt.xlabel(categories[np.argmax(y_test[i])])\n",
    "plt.show()"
   ]
  },
  {
   "cell_type": "code",
   "execution_count": 63,
   "metadata": {
    "colab": {
     "base_uri": "https://localhost:8080/"
    },
    "executionInfo": {
     "elapsed": 587864,
     "status": "ok",
     "timestamp": 1624607891060,
     "user": {
      "displayName": "NOUMAN AHMAD",
      "photoUrl": "https://lh3.googleusercontent.com/a-/AOh14GhcQ3BpK0-GAMrjLlr__tOqeFHLlT11IEFK0ztPsVY=s64",
      "userId": "11031044337039581497"
     },
     "user_tz": -300
    },
    "id": "rmpEGWUMUUnh",
    "outputId": "f180ff58-d73f-4376-e4c6-af8c75f3ac04"
   },
   "outputs": [
    {
     "name": "stdout",
     "output_type": "stream",
     "text": [
      "Train on 1188 samples, validate on 297 samples\n",
      "Epoch 1/100\n",
      "1188/1188 [==============================] - 9s 7ms/step - loss: 1.5608 - accuracy: 0.2946 - val_loss: 1.5428 - val_accuracy: 0.3098\n",
      "Epoch 2/100\n",
      "1188/1188 [==============================] - 6s 5ms/step - loss: 1.5207 - accuracy: 0.3249 - val_loss: 1.5139 - val_accuracy: 0.3367\n",
      "Epoch 3/100\n",
      "1188/1188 [==============================] - 6s 5ms/step - loss: 1.4740 - accuracy: 0.3308 - val_loss: 1.4718 - val_accuracy: 0.3636\n",
      "Epoch 4/100\n",
      "1188/1188 [==============================] - 6s 5ms/step - loss: 1.4104 - accuracy: 0.3847 - val_loss: 1.4495 - val_accuracy: 0.3636\n",
      "Epoch 5/100\n",
      "1188/1188 [==============================] - 6s 5ms/step - loss: 1.3896 - accuracy: 0.3847 - val_loss: 1.4323 - val_accuracy: 0.4040\n",
      "Epoch 6/100\n",
      "1188/1188 [==============================] - 6s 5ms/step - loss: 1.3586 - accuracy: 0.4167 - val_loss: 1.4131 - val_accuracy: 0.3805\n",
      "Epoch 7/100\n",
      "1188/1188 [==============================] - 6s 5ms/step - loss: 1.3153 - accuracy: 0.4209 - val_loss: 1.4062 - val_accuracy: 0.4310\n",
      "Epoch 8/100\n",
      "1188/1188 [==============================] - 6s 5ms/step - loss: 1.2695 - accuracy: 0.4369 - val_loss: 1.3664 - val_accuracy: 0.4141\n",
      "Epoch 9/100\n",
      "1188/1188 [==============================] - 6s 5ms/step - loss: 1.2314 - accuracy: 0.4747 - val_loss: 1.3849 - val_accuracy: 0.4411\n",
      "Epoch 10/100\n",
      "1188/1188 [==============================] - 6s 5ms/step - loss: 1.2104 - accuracy: 0.4655 - val_loss: 1.3627 - val_accuracy: 0.4310\n",
      "Epoch 11/100\n",
      "1188/1188 [==============================] - 6s 5ms/step - loss: 1.1661 - accuracy: 0.5034 - val_loss: 1.3256 - val_accuracy: 0.4613\n",
      "Epoch 12/100\n",
      "1188/1188 [==============================] - 6s 5ms/step - loss: 1.1604 - accuracy: 0.5118 - val_loss: 1.3865 - val_accuracy: 0.4714\n",
      "Epoch 13/100\n",
      "1188/1188 [==============================] - 6s 5ms/step - loss: 1.1142 - accuracy: 0.5227 - val_loss: 1.3461 - val_accuracy: 0.4478\n",
      "Epoch 14/100\n",
      "1188/1188 [==============================] - 6s 5ms/step - loss: 1.0628 - accuracy: 0.5623 - val_loss: 1.3366 - val_accuracy: 0.4579\n",
      "Epoch 15/100\n",
      "1188/1188 [==============================] - 6s 5ms/step - loss: 1.0218 - accuracy: 0.5766 - val_loss: 1.3488 - val_accuracy: 0.4545\n",
      "Epoch 16/100\n",
      "1188/1188 [==============================] - 6s 5ms/step - loss: 0.9628 - accuracy: 0.6111 - val_loss: 1.3395 - val_accuracy: 0.4815\n",
      "Epoch 17/100\n",
      "1188/1188 [==============================] - 6s 5ms/step - loss: 0.8984 - accuracy: 0.6347 - val_loss: 1.4985 - val_accuracy: 0.4916\n",
      "Epoch 18/100\n",
      "1188/1188 [==============================] - 6s 5ms/step - loss: 0.8507 - accuracy: 0.6599 - val_loss: 1.3788 - val_accuracy: 0.4983\n",
      "Epoch 19/100\n",
      "1188/1188 [==============================] - 6s 5ms/step - loss: 0.7772 - accuracy: 0.6843 - val_loss: 1.4430 - val_accuracy: 0.5084\n",
      "Epoch 20/100\n",
      "1188/1188 [==============================] - 6s 5ms/step - loss: 0.7759 - accuracy: 0.6734 - val_loss: 1.4274 - val_accuracy: 0.4815\n",
      "Epoch 21/100\n",
      "1188/1188 [==============================] - 6s 5ms/step - loss: 0.7018 - accuracy: 0.7205 - val_loss: 1.5757 - val_accuracy: 0.5185\n",
      "Epoch 22/100\n",
      "1188/1188 [==============================] - 6s 5ms/step - loss: 0.6082 - accuracy: 0.7483 - val_loss: 1.8518 - val_accuracy: 0.5286\n",
      "Epoch 23/100\n",
      "1188/1188 [==============================] - 6s 5ms/step - loss: 0.5678 - accuracy: 0.7727 - val_loss: 1.5949 - val_accuracy: 0.5253\n",
      "Epoch 24/100\n",
      "1188/1188 [==============================] - 6s 5ms/step - loss: 0.4897 - accuracy: 0.8030 - val_loss: 1.6254 - val_accuracy: 0.5354\n",
      "Epoch 25/100\n",
      "1188/1188 [==============================] - 6s 5ms/step - loss: 0.4622 - accuracy: 0.8224 - val_loss: 1.8138 - val_accuracy: 0.5051\n",
      "Epoch 26/100\n",
      "1188/1188 [==============================] - 6s 5ms/step - loss: 0.4142 - accuracy: 0.8443 - val_loss: 1.6612 - val_accuracy: 0.5758\n",
      "Epoch 27/100\n",
      "1188/1188 [==============================] - 6s 5ms/step - loss: 0.3892 - accuracy: 0.8552 - val_loss: 1.9360 - val_accuracy: 0.5354\n",
      "Epoch 28/100\n",
      "1188/1188 [==============================] - 6s 5ms/step - loss: 0.3104 - accuracy: 0.8813 - val_loss: 1.9878 - val_accuracy: 0.5286\n",
      "Epoch 29/100\n",
      "1188/1188 [==============================] - 6s 5ms/step - loss: 0.2692 - accuracy: 0.8965 - val_loss: 2.1794 - val_accuracy: 0.5589\n",
      "Epoch 30/100\n",
      "1188/1188 [==============================] - 6s 5ms/step - loss: 0.3156 - accuracy: 0.8771 - val_loss: 2.2426 - val_accuracy: 0.5051\n",
      "Epoch 31/100\n",
      "1188/1188 [==============================] - 6s 5ms/step - loss: 0.2407 - accuracy: 0.9158 - val_loss: 2.5276 - val_accuracy: 0.5387\n",
      "Epoch 32/100\n",
      "1188/1188 [==============================] - 6s 5ms/step - loss: 0.1954 - accuracy: 0.9209 - val_loss: 2.5586 - val_accuracy: 0.5354\n",
      "Epoch 33/100\n",
      "1188/1188 [==============================] - 6s 5ms/step - loss: 0.1684 - accuracy: 0.9444 - val_loss: 2.4797 - val_accuracy: 0.5522\n",
      "Epoch 34/100\n",
      "1188/1188 [==============================] - 6s 5ms/step - loss: 0.2206 - accuracy: 0.9209 - val_loss: 2.4822 - val_accuracy: 0.5488\n",
      "Epoch 35/100\n",
      "1188/1188 [==============================] - 6s 5ms/step - loss: 0.1396 - accuracy: 0.9461 - val_loss: 2.7945 - val_accuracy: 0.5118\n",
      "Epoch 36/100\n",
      "1188/1188 [==============================] - 6s 5ms/step - loss: 0.1262 - accuracy: 0.9529 - val_loss: 2.8710 - val_accuracy: 0.5387\n",
      "Epoch 37/100\n",
      "1188/1188 [==============================] - 6s 5ms/step - loss: 0.1540 - accuracy: 0.9453 - val_loss: 2.7121 - val_accuracy: 0.5623\n",
      "Epoch 38/100\n",
      "1188/1188 [==============================] - 6s 5ms/step - loss: 0.1272 - accuracy: 0.9630 - val_loss: 3.0984 - val_accuracy: 0.5286\n",
      "Epoch 39/100\n",
      "1188/1188 [==============================] - 6s 5ms/step - loss: 0.1126 - accuracy: 0.9604 - val_loss: 2.5530 - val_accuracy: 0.5623\n",
      "Epoch 40/100\n",
      "1188/1188 [==============================] - 6s 5ms/step - loss: 0.0736 - accuracy: 0.9764 - val_loss: 2.8571 - val_accuracy: 0.5522\n",
      "Epoch 41/100\n",
      "1188/1188 [==============================] - 6s 5ms/step - loss: 0.0771 - accuracy: 0.9756 - val_loss: 2.9167 - val_accuracy: 0.5421\n",
      "Epoch 42/100\n",
      "1188/1188 [==============================] - 6s 5ms/step - loss: 0.0612 - accuracy: 0.9848 - val_loss: 3.3640 - val_accuracy: 0.5286\n",
      "Epoch 43/100\n",
      "1188/1188 [==============================] - 6s 5ms/step - loss: 0.0665 - accuracy: 0.9806 - val_loss: 3.3378 - val_accuracy: 0.5354\n",
      "Epoch 44/100\n",
      "1188/1188 [==============================] - 6s 5ms/step - loss: 0.0707 - accuracy: 0.9764 - val_loss: 3.3688 - val_accuracy: 0.5118\n",
      "Epoch 45/100\n",
      "1188/1188 [==============================] - 6s 5ms/step - loss: 0.0505 - accuracy: 0.9848 - val_loss: 3.4607 - val_accuracy: 0.5084\n",
      "Epoch 46/100\n",
      "1188/1188 [==============================] - 6s 5ms/step - loss: 0.0900 - accuracy: 0.9689 - val_loss: 3.0963 - val_accuracy: 0.5387\n",
      "Epoch 47/100\n",
      "1188/1188 [==============================] - 6s 5ms/step - loss: 0.1012 - accuracy: 0.9689 - val_loss: 3.0528 - val_accuracy: 0.5522\n",
      "Epoch 48/100\n",
      "1188/1188 [==============================] - 6s 5ms/step - loss: 0.0754 - accuracy: 0.9781 - val_loss: 3.1383 - val_accuracy: 0.5152\n",
      "Epoch 49/100\n",
      "1188/1188 [==============================] - 6s 5ms/step - loss: 0.0967 - accuracy: 0.9663 - val_loss: 3.2450 - val_accuracy: 0.5455\n",
      "Epoch 50/100\n",
      "1188/1188 [==============================] - 6s 5ms/step - loss: 0.0831 - accuracy: 0.9731 - val_loss: 3.1832 - val_accuracy: 0.5253\n",
      "Epoch 51/100\n",
      "1188/1188 [==============================] - 6s 5ms/step - loss: 0.2533 - accuracy: 0.9099 - val_loss: 2.8339 - val_accuracy: 0.5084\n",
      "Epoch 52/100\n",
      "1188/1188 [==============================] - 6s 5ms/step - loss: 0.1379 - accuracy: 0.9562 - val_loss: 2.8912 - val_accuracy: 0.5017\n",
      "Epoch 53/100\n",
      "1188/1188 [==============================] - 6s 5ms/step - loss: 0.1076 - accuracy: 0.9646 - val_loss: 3.3826 - val_accuracy: 0.5017\n",
      "Epoch 54/100\n",
      "1188/1188 [==============================] - 6s 5ms/step - loss: 0.0557 - accuracy: 0.9832 - val_loss: 3.6840 - val_accuracy: 0.5051\n",
      "Epoch 55/100\n",
      "1188/1188 [==============================] - 6s 5ms/step - loss: 0.1026 - accuracy: 0.9663 - val_loss: 3.5165 - val_accuracy: 0.4949\n",
      "Epoch 56/100\n",
      "1188/1188 [==============================] - 6s 5ms/step - loss: 0.0926 - accuracy: 0.9705 - val_loss: 3.7058 - val_accuracy: 0.5152\n",
      "Epoch 57/100\n",
      "1188/1188 [==============================] - 6s 5ms/step - loss: 0.0583 - accuracy: 0.9815 - val_loss: 3.4863 - val_accuracy: 0.5219\n",
      "Epoch 58/100\n",
      "1188/1188 [==============================] - 6s 5ms/step - loss: 0.0326 - accuracy: 0.9874 - val_loss: 3.6561 - val_accuracy: 0.5152\n",
      "Epoch 59/100\n",
      "1188/1188 [==============================] - 6s 5ms/step - loss: 0.0410 - accuracy: 0.9874 - val_loss: 3.8853 - val_accuracy: 0.5017\n",
      "Epoch 60/100\n",
      "1188/1188 [==============================] - 6s 5ms/step - loss: 0.0503 - accuracy: 0.9806 - val_loss: 4.1872 - val_accuracy: 0.5320\n",
      "Epoch 61/100\n",
      "1188/1188 [==============================] - 6s 5ms/step - loss: 0.0411 - accuracy: 0.9891 - val_loss: 3.9758 - val_accuracy: 0.4949\n",
      "Epoch 62/100\n",
      "1188/1188 [==============================] - 6s 5ms/step - loss: 0.0450 - accuracy: 0.9790 - val_loss: 4.1081 - val_accuracy: 0.5118\n",
      "Epoch 63/100\n",
      "1188/1188 [==============================] - 6s 5ms/step - loss: 0.0374 - accuracy: 0.9874 - val_loss: 4.0881 - val_accuracy: 0.5185\n",
      "Epoch 64/100\n",
      "1188/1188 [==============================] - 6s 5ms/step - loss: 0.0385 - accuracy: 0.9840 - val_loss: 4.1362 - val_accuracy: 0.5051\n",
      "Epoch 65/100\n",
      "1188/1188 [==============================] - 6s 5ms/step - loss: 0.0488 - accuracy: 0.9823 - val_loss: 3.9151 - val_accuracy: 0.5084\n",
      "Epoch 66/100\n",
      "1188/1188 [==============================] - 6s 5ms/step - loss: 0.0309 - accuracy: 0.9899 - val_loss: 3.9892 - val_accuracy: 0.5084\n",
      "Epoch 67/100\n",
      "1188/1188 [==============================] - 6s 5ms/step - loss: 0.0320 - accuracy: 0.9907 - val_loss: 4.2679 - val_accuracy: 0.5051\n",
      "Epoch 68/100\n",
      "1188/1188 [==============================] - 6s 5ms/step - loss: 0.0383 - accuracy: 0.9857 - val_loss: 4.2706 - val_accuracy: 0.4983\n",
      "Epoch 69/100\n",
      "1188/1188 [==============================] - 6s 5ms/step - loss: 0.0328 - accuracy: 0.9874 - val_loss: 4.1272 - val_accuracy: 0.5051\n",
      "Epoch 70/100\n",
      "1188/1188 [==============================] - 6s 5ms/step - loss: 0.0540 - accuracy: 0.9790 - val_loss: 3.9288 - val_accuracy: 0.5051\n",
      "Epoch 71/100\n",
      "1188/1188 [==============================] - 6s 5ms/step - loss: 0.0326 - accuracy: 0.9907 - val_loss: 4.4836 - val_accuracy: 0.4781\n",
      "Epoch 72/100\n",
      "1188/1188 [==============================] - 6s 5ms/step - loss: 0.0261 - accuracy: 0.9933 - val_loss: 4.6500 - val_accuracy: 0.4949\n",
      "Epoch 73/100\n",
      "1188/1188 [==============================] - 6s 5ms/step - loss: 0.0492 - accuracy: 0.9848 - val_loss: 3.8461 - val_accuracy: 0.5118\n",
      "Epoch 74/100\n",
      "1188/1188 [==============================] - 6s 5ms/step - loss: 0.0408 - accuracy: 0.9857 - val_loss: 4.4230 - val_accuracy: 0.4949\n",
      "Epoch 75/100\n",
      "1188/1188 [==============================] - 6s 5ms/step - loss: 0.0693 - accuracy: 0.9806 - val_loss: 4.0231 - val_accuracy: 0.5185\n",
      "Epoch 76/100\n",
      "1188/1188 [==============================] - 6s 5ms/step - loss: 0.0390 - accuracy: 0.9882 - val_loss: 3.9690 - val_accuracy: 0.4848\n",
      "Epoch 77/100\n",
      "1188/1188 [==============================] - 6s 5ms/step - loss: 0.0336 - accuracy: 0.9899 - val_loss: 4.2752 - val_accuracy: 0.4949\n",
      "Epoch 78/100\n",
      "1188/1188 [==============================] - 6s 5ms/step - loss: 0.0505 - accuracy: 0.9840 - val_loss: 3.8186 - val_accuracy: 0.4949\n",
      "Epoch 79/100\n",
      "1188/1188 [==============================] - 6s 5ms/step - loss: 0.0366 - accuracy: 0.9865 - val_loss: 3.9850 - val_accuracy: 0.5084\n",
      "Epoch 80/100\n",
      "1188/1188 [==============================] - 6s 5ms/step - loss: 0.0295 - accuracy: 0.9899 - val_loss: 3.7643 - val_accuracy: 0.5051\n",
      "Epoch 81/100\n",
      "1188/1188 [==============================] - 6s 5ms/step - loss: 0.0405 - accuracy: 0.9848 - val_loss: 4.2592 - val_accuracy: 0.4916\n",
      "Epoch 82/100\n",
      "1188/1188 [==============================] - 6s 5ms/step - loss: 0.0225 - accuracy: 0.9933 - val_loss: 4.4751 - val_accuracy: 0.4983\n",
      "Epoch 83/100\n",
      "1188/1188 [==============================] - 6s 5ms/step - loss: 0.0366 - accuracy: 0.9857 - val_loss: 4.5312 - val_accuracy: 0.4882\n",
      "Epoch 84/100\n",
      "1188/1188 [==============================] - 6s 5ms/step - loss: 0.0269 - accuracy: 0.9857 - val_loss: 4.8870 - val_accuracy: 0.4848\n",
      "Epoch 85/100\n",
      "1188/1188 [==============================] - 6s 5ms/step - loss: 0.0260 - accuracy: 0.9916 - val_loss: 4.7828 - val_accuracy: 0.4916\n",
      "Epoch 86/100\n",
      "1188/1188 [==============================] - 6s 5ms/step - loss: 0.0205 - accuracy: 0.9924 - val_loss: 4.5176 - val_accuracy: 0.5051\n",
      "Epoch 87/100\n",
      "1188/1188 [==============================] - 6s 5ms/step - loss: 0.0191 - accuracy: 0.9941 - val_loss: 4.6102 - val_accuracy: 0.4882\n",
      "Epoch 88/100\n",
      "1188/1188 [==============================] - 6s 5ms/step - loss: 0.0229 - accuracy: 0.9907 - val_loss: 4.8755 - val_accuracy: 0.4983\n",
      "Epoch 89/100\n",
      "1188/1188 [==============================] - 6s 5ms/step - loss: 0.0362 - accuracy: 0.9840 - val_loss: 4.7475 - val_accuracy: 0.5051\n",
      "Epoch 90/100\n",
      "1188/1188 [==============================] - 6s 5ms/step - loss: 0.0508 - accuracy: 0.9857 - val_loss: 4.3948 - val_accuracy: 0.4815\n",
      "Epoch 91/100\n",
      "1188/1188 [==============================] - 6s 5ms/step - loss: 0.0346 - accuracy: 0.9891 - val_loss: 4.8526 - val_accuracy: 0.5118\n",
      "Epoch 92/100\n",
      "1188/1188 [==============================] - 6s 5ms/step - loss: 0.0512 - accuracy: 0.9832 - val_loss: 4.4578 - val_accuracy: 0.4848\n",
      "Epoch 93/100\n",
      "1188/1188 [==============================] - 6s 5ms/step - loss: 0.0269 - accuracy: 0.9899 - val_loss: 4.6724 - val_accuracy: 0.4781\n",
      "Epoch 94/100\n",
      "1188/1188 [==============================] - 6s 5ms/step - loss: 0.1069 - accuracy: 0.9655 - val_loss: 4.3326 - val_accuracy: 0.5084\n",
      "Epoch 95/100\n",
      "1188/1188 [==============================] - 6s 5ms/step - loss: 0.0401 - accuracy: 0.9865 - val_loss: 4.1785 - val_accuracy: 0.4949\n",
      "Epoch 96/100\n",
      "1188/1188 [==============================] - 6s 5ms/step - loss: 0.0340 - accuracy: 0.9882 - val_loss: 4.3658 - val_accuracy: 0.5017\n",
      "Epoch 97/100\n",
      "1188/1188 [==============================] - 6s 5ms/step - loss: 0.0539 - accuracy: 0.9773 - val_loss: 4.3475 - val_accuracy: 0.4983\n",
      "Epoch 98/100\n",
      "1188/1188 [==============================] - 6s 5ms/step - loss: 0.0422 - accuracy: 0.9790 - val_loss: 4.6538 - val_accuracy: 0.4747\n",
      "Epoch 99/100\n",
      "1188/1188 [==============================] - 6s 5ms/step - loss: 0.0263 - accuracy: 0.9891 - val_loss: 4.8608 - val_accuracy: 0.4882\n",
      "Epoch 100/100\n",
      "1188/1188 [==============================] - 6s 5ms/step - loss: 0.0261 - accuracy: 0.9916 - val_loss: 5.0659 - val_accuracy: 0.5185\n"
     ]
    }
   ],
   "source": [
    "history=model.fit(x_train,y_train,epochs=100,validation_split=0.2)"
   ]
  },
  {
   "cell_type": "code",
   "execution_count": 64,
   "metadata": {
    "executionInfo": {
     "elapsed": 574,
     "status": "ok",
     "timestamp": 1624607892763,
     "user": {
      "displayName": "NOUMAN AHMAD",
      "photoUrl": "https://lh3.googleusercontent.com/a-/AOh14GhcQ3BpK0-GAMrjLlr__tOqeFHLlT11IEFK0ztPsVY=s64",
      "userId": "11031044337039581497"
     },
     "user_tz": -300
    },
    "id": "GWIlgOnjzdhT"
   },
   "outputs": [],
   "source": [
    "model.save('model.h5')"
   ]
  },
  {
   "cell_type": "code",
   "execution_count": 65,
   "metadata": {
    "executionInfo": {
     "elapsed": 7,
     "status": "ok",
     "timestamp": 1624607892765,
     "user": {
      "displayName": "NOUMAN AHMAD",
      "photoUrl": "https://lh3.googleusercontent.com/a-/AOh14GhcQ3BpK0-GAMrjLlr__tOqeFHLlT11IEFK0ztPsVY=s64",
      "userId": "11031044337039581497"
     },
     "user_tz": -300
    },
    "id": "dTE4J3IGUWlt"
   },
   "outputs": [],
   "source": [
    "from matplotlib import pyplot as plt"
   ]
  },
  {
   "cell_type": "code",
   "execution_count": 66,
   "metadata": {
    "colab": {
     "base_uri": "https://localhost:8080/",
     "height": 299
    },
    "executionInfo": {
     "elapsed": 970,
     "status": "ok",
     "timestamp": 1624607893729,
     "user": {
      "displayName": "NOUMAN AHMAD",
      "photoUrl": "https://lh3.googleusercontent.com/a-/AOh14GhcQ3BpK0-GAMrjLlr__tOqeFHLlT11IEFK0ztPsVY=s64",
      "userId": "11031044337039581497"
     },
     "user_tz": -300
    },
    "id": "H1TU9-z2UZlj",
    "outputId": "5441056b-9d6d-4dd7-c3b5-e762abefe44a"
   },
   "outputs": [
    {
     "data": {
      "image/png": "[encoded data removed]",
      "text/plain": [
       "<Figure size 432x288 with 1 Axes>"
      ]
     },
     "metadata": {
      "tags": []
     },
     "output_type": "display_data"
    }
   ],
   "source": [
    "# plot the training loss and accuracy\n",
    "N = 100 #number of epochs\n",
    "plt.style.use(\"ggplot\")\n",
    "plt.figure()\n",
    "plt.plot(np.arange(0, N), history.history[\"loss\"], label=\"train_loss\")\n",
    "plt.plot(np.arange(0, N), history.history[\"val_loss\"], label=\"val_loss\")\n",
    "plt.plot(np.arange(0, N), history.history[\"accuracy\"], label=\"train_acc\")\n",
    "plt.plot(np.arange(0, N), history.history[\"val_accuracy\"], label=\"val_acc\")\n",
    "plt.title(\"Training Loss and Accuracy\")\n",
    "plt.xlabel(\"Epoch #\")\n",
    "plt.ylabel(\"Loss/Accuracy\")\n",
    "plt.legend(loc=\"center right\")\n",
    "plt.savefig(\"CNN_Model\")"
   ]
  },
  {
   "cell_type": "code",
   "execution_count": 67,
   "metadata": {
    "colab": {
     "base_uri": "https://localhost:8080/"
    },
    "executionInfo": {
     "elapsed": 1181,
     "status": "ok",
     "timestamp": 1624607894895,
     "user": {
      "displayName": "NOUMAN AHMAD",
      "photoUrl": "https://lh3.googleusercontent.com/a-/AOh14GhcQ3BpK0-GAMrjLlr__tOqeFHLlT11IEFK0ztPsVY=s64",
      "userId": "11031044337039581497"
     },
     "user_tz": -300
    },
    "id": "qBKLBWTroYTu",
    "outputId": "f6d2da02-18dd-4286-f4fc-383c98e3fd13"
   },
   "outputs": [
    {
     "name": "stdout",
     "output_type": "stream",
     "text": [
      "test loss: 5.4802391427935975 %\n",
      "test accuracy: 0.4909090995788574 %\n"
     ]
    }
   ],
   "source": [
    "vaL_loss, val_accuracy= model.evaluate(x_test, y_test, verbose=0)\n",
    "print(\"test loss:\", vaL_loss,'%')\n",
    "print(\"test accuracy:\", val_accuracy,\"%\")"
   ]
  },
  {
   "cell_type": "code",
   "execution_count": 68,
   "metadata": {
    "colab": {
     "base_uri": "https://localhost:8080/",
     "height": 304
    },
    "executionInfo": {
     "elapsed": 23,
     "status": "ok",
     "timestamp": 1624607894898,
     "user": {
      "displayName": "NOUMAN AHMAD",
      "photoUrl": "https://lh3.googleusercontent.com/a-/AOh14GhcQ3BpK0-GAMrjLlr__tOqeFHLlT11IEFK0ztPsVY=s64",
      "userId": "11031044337039581497"
     },
     "user_tz": -300
    },
    "id": "mO_qh8EZl8qZ",
    "outputId": "b16548d0-87ec-4901-d204-fcca8c701a25"
   },
   "outputs": [
    {
     "name": "stdout",
     "output_type": "stream",
     "text": [
      "A.I predicts: Moderate\n",
      "Correct prediction for label 3 is Moderate\n"
     ]
    },
    {
     "data": {
      "image/png": "[encoded data removed]",
      "text/plain": [
       "<Figure size 432x288 with 1 Axes>"
      ]
     },
     "metadata": {
      "tags": []
     },
     "output_type": "display_data"
    }
   ],
   "source": [
    "X = 32\n",
    "\n",
    "img_size = 256\n",
    "\n",
    "img_single = x_test[X]\n",
    "img_single = cv2.resize(img_single, (img_size, img_size))\n",
    "img_single = (np.expand_dims(img_single, 0))\n",
    "img_single = img_single.reshape(img_single.shape[0],256,256,1)\n",
    "\n",
    "predictions_single = model.predict(img_single)\n",
    "print('A.I predicts:',categories[np.argmax(predictions_single)])\n",
    "print(\"Correct prediction for label\",np.argmax(y_test[X]),'is',categories[np.argmax(y_test[X])])\n",
    "plt.imshow(np.squeeze(img_single))\n",
    "plt.grid(False)\n",
    "plt.show()"
   ]
  },
  {
   "cell_type": "code",
   "execution_count": 69,
   "metadata": {
    "colab": {
     "base_uri": "https://localhost:8080/",
     "height": 523
    },
    "executionInfo": {
     "elapsed": 17,
     "status": "ok",
     "timestamp": 1624607894899,
     "user": {
      "displayName": "NOUMAN AHMAD",
      "photoUrl": "https://lh3.googleusercontent.com/a-/AOh14GhcQ3BpK0-GAMrjLlr__tOqeFHLlT11IEFK0ztPsVY=s64",
      "userId": "11031044337039581497"
     },
     "user_tz": -300
    },
    "id": "YO55PPeenshy",
    "outputId": "83524a05-f352-42a4-e91d-14b6598cf529"
   },
   "outputs": [
    {
     "data": {
      "text/plain": [
       "<Figure size 432x288 with 0 Axes>"
      ]
     },
     "metadata": {
      "tags": []
     },
     "output_type": "display_data"
    },
    {
     "data": {
      "image/png": "[encoded data removed]",
      "text/plain": [
       "<Figure size 864x576 with 1 Axes>"
      ]
     },
     "metadata": {
      "tags": []
     },
     "output_type": "display_data"
    }
   ],
   "source": [
    "from sklearn.metrics import confusion_matrix\n",
    "from mlxtend.plotting import plot_confusion_matrix\n",
    "\n",
    "test_labels = np.argmax(y_test, axis=1)\n",
    "predictions = model.predict(x_test)\n",
    "predictions = np.argmax(predictions, axis=-1)\n",
    "\n",
    "\n",
    "cm  = confusion_matrix(test_labels, predictions)\n",
    "plt.figure()\n",
    "plot_confusion_matrix(cm,figsize=(12,8), hide_ticks=True,cmap=plt.cm.Blues)\n",
    "plt.xticks(range(5), ['Normal','Doubtful','Mid','Moderate','Severe'], fontsize=16)\n",
    "plt.yticks(range(5), ['Normal','Doubtful','Mid','Moderate','Severe'], fontsize=16)\n",
    "plt.show()"
   ]
  },
  {
   "cell_type": "markdown",
   "metadata": {},
   "source": [
    "# My GitHub Profile Link:"
   ]
  },
  {
   "cell_type": "markdown",
   "metadata": {
    "id": "Sbp-AK7EpXSJ"
   },
   "source": [
    "# https://github.com/noumannahmad"
   ]
  },
  {
   "cell_type": "code",
   "execution_count": null,
   "metadata": {},
   "outputs": [],
   "source": []
  }
 ],
 "metadata": {
  "accelerator": "GPU",
  "colab": {
   "name": "Model_Training.ipynb",
   "provenance": []
  },
  "kernelspec": {
   "display_name": "Python 3",
   "language": "python",
   "name": "python3"
  },
  "language_info": {
   "codemirror_mode": {
    "name": "ipython",
    "version": 3
   },
   "file_extension": ".py",
   "mimetype": "text/x-python",
   "name": "python",
   "nbconvert_exporter": "python",
   "pygments_lexer": "ipython3",
   "version": "3.10.3"
  },
  "vscode": {
   "interpreter": {
    "hash": "ecffcd3afd17dc213fb9b5af4f77f476804177c5e71bec03363223c57e82e074"
   }
  }
 },
 "nbformat": 4,
 "nbformat_minor": 1
}
